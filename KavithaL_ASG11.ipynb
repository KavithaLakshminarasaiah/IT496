{
  "nbformat": 4,
  "nbformat_minor": 0,
  "metadata": {
    "colab": {
      "provenance": [],
      "mount_file_id": "1JX-E6K5bd8eLNmm6DLEC4D347UlVeyS2",
      "authorship_tag": "ABX9TyOZN7mlTT7ATFmGqZ/i3vcf",
      "include_colab_link": true
    },
    "kernelspec": {
      "name": "python3",
      "display_name": "Python 3"
    },
    "language_info": {
      "name": "python"
    }
  },
  "cells": [
    {
      "cell_type": "markdown",
      "metadata": {
        "id": "view-in-github",
        "colab_type": "text"
      },
      "source": [
        "<a href=\"https://colab.research.google.com/github/KavithaLakshminarasaiah/IT496/blob/main/KavithaL_ASG11.ipynb\" target=\"_parent\"><img src=\"https://colab.research.google.com/assets/colab-badge.svg\" alt=\"Open In Colab\"/></a>"
      ]
    },
    {
      "cell_type": "code",
      "execution_count": 1,
      "metadata": {
        "colab": {
          "base_uri": "https://localhost:8080/"
        },
        "id": "IVzzvv1T2T3-",
        "outputId": "98c549d8-ac3b-464e-b72b-5de69d522e65"
      },
      "outputs": [
        {
          "output_type": "stream",
          "name": "stdout",
          "text": [
            "Index(['A', 'B', 'C', 'D', 'E', 'F', 'G', 'H', 'I', 'J', 'EOP'], dtype='object', name='tasks')\n",
            "tasks         A         B         C         D         E         F         G  \\\n",
            "0      5.863050  4.122448  3.342803  2.391675  5.975406  2.082318  7.717022   \n",
            "1      6.186852  4.675622  5.115603  2.674131  3.640027  3.211706  6.445566   \n",
            "\n",
            "tasks         H          I         J  EOP  \n",
            "0      9.206921  24.706930  3.334432  NaN  \n",
            "1      1.170861  10.087005  3.045457  NaN  \n"
          ]
        }
      ],
      "source": [
        "import pandas as pd\n",
        "import tensorflow_probability as tfp\n",
        "tfd= tfp.distributions\n",
        "\n",
        "tasksDF=pd.read_csv('/content/drive/MyDrive/PERT-CPM.csv')\n",
        "taskNames=tasksDF['tasks']\n",
        "\n",
        "simulationDF=pd.DataFrame(columns=taskNames)\n",
        "\n",
        "print(simulationDF.columns)\n",
        "for index,task in tasksDF.iterrows():\n",
        "  dist=tfd.PERT(low=task['ai '], peak=task['mi'], high=task['bi'], temperature=4)\n",
        "  simulationDF[task['tasks']]=dist.sample(1000)\n",
        "\n",
        "print(simulationDF.head(2))"
      ]
    },
    {
      "cell_type": "markdown",
      "source": [
        "# New Section"
      ],
      "metadata": {
        "id": "lBdXQ__V3smE"
      }
    },
    {
      "cell_type": "code",
      "source": [
        "paths=['ADEJ','BCDEJ','BCFGJ','BCFHJ','BI']\n",
        "pathsDF=pd.DataFrame(columns=paths)\n",
        "\n",
        "ADEJ=[]\n",
        "BCDEJ=[]\n",
        "BCFGJ=[]\n",
        "BCFHJ=[]\n",
        "BI=[]\n",
        "for index, row in simulationDF.iterrows():\n",
        "  ADEJ.append(row['A']+row['D']+row['E']+row['J'])\n",
        "  BCDEJ.append(row['B']+row['C']+row['D']+row['E']+row['J'])\n",
        "  BCFGJ.append(row['B']+row['C']+row['F']+row['G']+row['J'])\n",
        "  BCFHJ.append(row['B']+row['C']+row['F']+row['H']+row['J'])\n",
        "  BI.append(row['B']+row['I'])\n",
        "\n",
        "pathsDF['ADEJ']=ADEJ\n",
        "pathsDF['BCDEJ']=BCDEJ\n",
        "pathsDF['BCFGJ']=BCFGJ\n",
        "pathsDF['BCFHJ']=BCFHJ\n",
        "pathsDF['BI']=BI\n",
        "print(pathsDF.head(3))\n"
      ],
      "metadata": {
        "id": "XPnLZwD22Yxb",
        "colab": {
          "base_uri": "https://localhost:8080/"
        },
        "outputId": "4bab1ee4-57a9-4446-9dc2-9e96ea85af36"
      },
      "execution_count": 2,
      "outputs": [
        {
          "output_type": "stream",
          "name": "stdout",
          "text": [
            "        ADEJ      BCDEJ      BCFGJ      BCFHJ         BI\n",
            "0  17.564564  19.166763  20.599024  22.088923  28.829378\n",
            "1  15.546467  19.150841  22.493954  17.219250  14.762627\n",
            "2  16.339001  17.261635  18.998085  14.432176  13.032681\n"
          ]
        }
      ]
    },
    {
      "cell_type": "code",
      "source": [
        "pathsDF['Critical Path'].value_counts().plot.bar()"
      ],
      "metadata": {
        "id": "vuK4-0_Y2cAa"
      },
      "execution_count": null,
      "outputs": []
    }
  ]
}